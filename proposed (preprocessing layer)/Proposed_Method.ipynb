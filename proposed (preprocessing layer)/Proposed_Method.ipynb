{
  "nbformat": 4,
  "nbformat_minor": 0,
  "metadata": {
    "colab": {
      "name": "Proposed Method.ipynb",
      "provenance": [],
      "collapsed_sections": [],
      "authorship_tag": "ABX9TyPxOADaH0doAzGFVqJRNnX4",
      "include_colab_link": true
    },
    "kernelspec": {
      "name": "python3",
      "display_name": "Python 3"
    },
    "language_info": {
      "name": "python"
    }
  },
  "cells": [
    {
      "cell_type": "markdown",
      "metadata": {
        "id": "view-in-github",
        "colab_type": "text"
      },
      "source": [
        "<a href=\"https://colab.research.google.com/github/Bibhash123/Resizing_Forensics/blob/main/proposed%20(preprocessing%20layer)/Proposed_Method.ipynb\" target=\"_parent\"><img src=\"https://colab.research.google.com/assets/colab-badge.svg\" alt=\"Open In Colab\"/></a>"
      ]
    },
    {
      "cell_type": "markdown",
      "metadata": {
        "id": "S37mt-ruFZHL"
      },
      "source": [
        "In experiment 1.2 we employed five high pass filters in the first (preprocessing) layer in our model. These filters were the following.\n",
        "\n",
        "<ul>\n",
        "<li>5x5 laplacian kernel</li>\n",
        "<li>5x5 Sobel X kernel</li>\n",
        "<li>5x5 Sobel Y kernel</li>\n",
        "<li>5x5 Prewitt X kernel</li>\n",
        "<li>5x5 Prewitt Y kernel</li>\n",
        "</ul>\n",
        "\n",
        "In this experiment, for our first layer filters we will use the 20 filters that have been used for Robust Median Filtering by Yu et al.(link to paper can be found [here](https://sci-hub.se/10.1109/ACCESS.2019.2932810))"
      ]
    },
    {
      "cell_type": "markdown",
      "metadata": {
        "id": "_noOJlPEM1xu"
      },
      "source": [
        "# Dataset-Download"
      ]
    },
    {
      "cell_type": "code",
      "metadata": {
        "id": "G8_MMOX0H8xf"
      },
      "source": [
        "from IPython.display import clear_output\n",
        "!pip install -q kaggle\n",
        "!mkdir ~/.kaggle/\n",
        "!cp kaggle.json ~/.kaggle/kaggle.json\n",
        "!chmod 600 ~/.kaggle/kaggle.json\n",
        "!kaggle datasets download -d bibhash123/djpeg-ex1p3\n",
        "!unzip djpeg-ex1p3.zip -d '/content/DCR/'\n",
        "clear_output(wait=False)"
      ],
      "execution_count": null,
      "outputs": []
    },
    {
      "cell_type": "markdown",
      "metadata": {
        "id": "KwNUjHiUM5b9"
      },
      "source": [
        "# Model Preparation"
      ]
    },
    {
      "cell_type": "code",
      "metadata": {
        "id": "eZmuA4cPKtMu"
      },
      "source": [
        "import os\n",
        "import numpy as np\n",
        "import cv2\n",
        "import matplotlib.pyplot as plt\n",
        "import tensorflow as tf\n",
        "import tensorflow.keras.layers as L\n",
        "import tensorflow.keras.backend as K"
      ],
      "execution_count": null,
      "outputs": []
    },
    {
      "cell_type": "code",
      "metadata": {
        "id": "BAk7kLwAJuk3"
      },
      "source": [
        "PATH = '/content/DCR/'\n",
        "factor = lambda x: x.split('.jpg')[0].split('rf_')[-1]"
      ],
      "execution_count": null,
      "outputs": []
    },
    {
      "cell_type": "markdown",
      "metadata": {
        "id": "r11r7c29Jp6o"
      },
      "source": [
        "## Filter Layer"
      ]
    },
    {
      "cell_type": "code",
      "metadata": {
        "id": "wTEgWf57JwvP"
      },
      "source": [
        "import tensorflow as tf\n",
        "import tensorflow.keras.backend as K\n",
        "import tensorflow.keras.layers as L\n",
        "class PreprocessLayer(L.Layer):\n",
        "  def __init__(self,**kwargs):\n",
        "    super(PreprocessLayer,self).__init__(**kwargs)\n",
        "  \n",
        "  def build(self,input_shape):\n",
        "    self.built=True\n",
        "  #filter definitions\n",
        "  #first third and second defined....to define sq and edge\n",
        "  #elementary filters  \n",
        "  def a1(self,image):\n",
        "    filter = K.constant(np.array([[[[0,0,0,0,0],\n",
        "                        [0,0,0,0,0],\n",
        "                        [0,0,-1,1,0],\n",
        "                        [0,0,0,0,0],\n",
        "                        [0,0,0,0,0]]]]).reshape((5,5,1,1)))\n",
        "    return K.conv2d(image,filter,padding='same')\n",
        "  \n",
        "  def lin_vertical(self,image):\n",
        "    filter = K.constant(np.array([[[[0,0,0,0,0],\n",
        "                        [0,0,1,0,0],\n",
        "                        [0,0,-1,0,0],\n",
        "                        [0,0,0,0,0],\n",
        "                        [0,0,0,0,0]]]]).reshape((5,5,1,1)))\n",
        "    return K.conv2d(image,filter,padding='same')\n",
        "  \n",
        "  def lin_horizontal(self,image):\n",
        "    filter = K.constant(np.array([[[[0,0,0,0,0],\n",
        "                        [0,0,0,0,0],\n",
        "                        [0,1,-1,0,0],\n",
        "                        [0,0,0,0,0],\n",
        "                        [0,0,0,0,0]]]]).reshape((5,5,1,1)))\n",
        "    return K.conv2d(image,filter,padding='same')\n",
        "  \n",
        "  def a2(self,image):\n",
        "    filter = K.constant(np.array([[[[0,0,0,0,0],\n",
        "                        [0,0,0,0,0],\n",
        "                        [0,1,-2,1,0],\n",
        "                        [0,0,0,0,0],\n",
        "                        [0,0,0,0,0]]]]).reshape((5,5,1,1)))\n",
        "    return K.conv2d(image,filter,padding='same')\n",
        "  \n",
        "  def ord2_vertical(self,image):\n",
        "    filter = K.constant(np.array([[[[0,0,0,0,0],\n",
        "                        [0,0,1,0,0],\n",
        "                        [0,0,-2,0,0],\n",
        "                        [0,0,1,0,0],\n",
        "                        [0,0,0,0,0]]]]).reshape((5,5,1,1)))\n",
        "    return K.conv2d(image,filter,padding='same')\n",
        "\n",
        "  def a3(self,image):\n",
        "    filter = K.constant(np.array([[[[0,0,0,0,0],\n",
        "                        [0,0,0,0,0],\n",
        "                        [0,1,-3,3,-1],\n",
        "                        [0,0,0,0,0],\n",
        "                        [0,0,0,0,0]]]]).reshape((5,5,1,1)))\n",
        "    return K.conv2d(image,filter,padding='same')\n",
        "  \n",
        "  def ord3_horizontal(self,image):\n",
        "    filter = K.constant(np.array([[[[0,0,0,0,0],\n",
        "                        [0,0,0,0,0],\n",
        "                        [-1,3,-3,1,0],\n",
        "                        [0,0,0,0,0],\n",
        "                        [0,0,0,0,0]]]]).reshape((5,5,1,1)))\n",
        "    return K.conv2d(image,filter,padding='same')\n",
        "  \n",
        "  def ord3_vertical(self,image):\n",
        "    filter = K.constant(np.array([[[[0,0,-1,0,0],\n",
        "                        [0,0,3,0,0],\n",
        "                        [0,0,-3,0,0],\n",
        "                        [0,0,1,0,0],\n",
        "                        [0,0,0,0,0]]]]).reshape((5,5,1,1)))\n",
        "    return K.conv2d(image,filter,padding='same')\n",
        "\n",
        "  #minmax filters\n",
        "  def b1(self,image):\n",
        "    return K.minimum(self.a1(image),self.lin_horizontal(image))\n",
        "  \n",
        "  def c1(self,image):\n",
        "    return K.minimum(self.a1(image),self.lin_vertical(image))\n",
        "  \n",
        "  def d1(self,image):\n",
        "    return K.minimum(self.c1(image),self.lin_horizontal(image))\n",
        "  \n",
        "  def b2(self,image):\n",
        "    return K.minimum(self.a2(image),self.ord2_vertical(image))\n",
        "  \n",
        "  def b3(self,image):\n",
        "    return K.minimum(self.a3(image),self.ord3_horizontal(image))\n",
        "  \n",
        "  def c3(self,image):\n",
        "    return K.minimum(self.a3(image),self.ord3_vertical(image))\n",
        "  \n",
        "  def d3(self,image):\n",
        "    return K.minimum(self.c3(image),self.ord3_horizontal(image))\n",
        "  \n",
        "  #square filters\n",
        "  def s3a(self,image):\n",
        "    filter = K.constant(np.array([[[[0,0,0,0,0],\n",
        "                        [0,-1,2,-1,0],\n",
        "                        [0,2,-4,2,0],\n",
        "                        [0,-1,2,-1,0],\n",
        "                        [0,0,0,0,0]]]]).reshape((5,5,1,1)))\n",
        "    return K.conv2d(image,filter,padding='same')\n",
        "  \n",
        "  def s5a(self,image):\n",
        "    filter = K.constant(np.array([[[[-1,2,-2,2,-1],\n",
        "                        [2,-6,8,-6,2],\n",
        "                        [-2,8,-12,8,-2],\n",
        "                        [2,-6,8,-6,2],\n",
        "                        [-1,2,-2,2,-1]]]]).reshape((5,5,1,1)))\n",
        "    return K.conv2d(image,filter,padding='same')\n",
        "  \n",
        "  #edge filters\n",
        "  def e3_vertical_l(self,image):\n",
        "    filter = K.constant(np.array([[[[0,0,0,0,0],\n",
        "                        [0,-1,2,0,0],\n",
        "                        [0,2,-4,0,0],\n",
        "                        [0,-1,2,0,0],\n",
        "                        [0,0,0,0,0]]]]).reshape((5,5,1,1)))\n",
        "    return K.conv2d(image,filter,padding='same')\n",
        "  \n",
        "  def e3_horizontal(self,image):\n",
        "    filter = K.constant(np.array([[[[0,0,0,0,0],\n",
        "                        [0,0,0,0,0],\n",
        "                        [0,2,-4,2,0],\n",
        "                        [0,-1,2,-1,0],\n",
        "                        [0,0,0,0,0]]]]).reshape((5,5,1,1)))\n",
        "    return K.conv2d(image,filter,padding='same')\n",
        "\n",
        "  def e3_vertical_r(self,image):\n",
        "    filter = K.constant(np.array([[[[0,0,0,0,0],\n",
        "                        [0,0,2,-1,0],\n",
        "                        [0,0,-4,2,0],\n",
        "                        [0,0,2,-1,0],\n",
        "                        [0,0,0,0,0]]]]).reshape((5,5,1,1)))\n",
        "    return K.conv2d(image,filter,padding='same')\n",
        "  \n",
        "  def e3a(self,image):\n",
        "    filter = K.constant(np.array([[[[0,0,0,0,0],\n",
        "                        [0,-1,2,-1,0],\n",
        "                        [0,2,-4,2,0],\n",
        "                        [0,0,0,0,0],\n",
        "                        [0,0,0,0,0]]]]).reshape((5,5,1,1)))\n",
        "    return K.conv2d(image,filter,padding='same')\n",
        "  \n",
        "  def e3b(self,image):\n",
        "    return K.minimum(self.e3a(image),self.e3_vertical_l(image))\n",
        "  \n",
        "  def e3c(self,image):\n",
        "    return K.minimum(self.e3a(image),self.e3_horizontal(image))\n",
        "  \n",
        "  def e3d(self,image):\n",
        "    return K.minimum(self.e3c(image),K.minimum(self.e3_vertical_l(image),self.e3_vertical_r(image)))\n",
        "  \n",
        "  def e5_vertical_l(self,image):\n",
        "    filter = K.constant(np.array([[[[-1,2,-2,0,0],\n",
        "                        [2,-6,8,0,0],\n",
        "                        [-2,8,-12,0,0],\n",
        "                        [2,-6,8,0,0],\n",
        "                        [-1,2,-2,0,0]]]]).reshape((5,5,1,1)))\n",
        "    return K.conv2d(image,filter,padding='same')\n",
        "  \n",
        "  def e5_vertical_r(self,image):\n",
        "    filter = K.constant(np.array([[[[0,0,-2,2,-1],\n",
        "                        [0,0,8,-6,2],\n",
        "                        [0,0,-12,8,-2],\n",
        "                        [0,0,8,-6,2],\n",
        "                        [0,0,-2,2,-1]]]]).reshape((5,5,1,1)))\n",
        "    return K.conv2d(image,filter,padding='same')\n",
        "  \n",
        "  def e5_horizontal(self,image):\n",
        "    filter = K.constant(np.array([[[[0,0,0,0,0],\n",
        "                        [0,0,0,0,0],\n",
        "                        [-2,8,-12,8,-2],\n",
        "                        [2,-6,8,-6,2],\n",
        "                        [-1,2,-2,2,-1]]]]).reshape((5,5,1,1)))\n",
        "    return K.conv2d(image,filter,padding='same')\n",
        "  \n",
        "  def e5a(self,image):\n",
        "    filter = K.constant(np.array([[[[-1,2,-2,2,-1],\n",
        "                        [2,-6,8,-6,2],\n",
        "                        [-2,8,-12,8,-2],\n",
        "                        [0,0,0,0,0],\n",
        "                        [0,0,0,0,0]]]]).reshape((5,5,1,1)))\n",
        "    return K.conv2d(image,filter,padding='same')\n",
        "  \n",
        "  def e5b(self,image):\n",
        "    return K.minimum(self.e5a(image),self.e5_vertical_l(image))\n",
        "  \n",
        "  def e5c(self,image):\n",
        "    return K.minimum(self.e5a(image),self.e5_horizontal(image))\n",
        "  \n",
        "  def e5d(self,image):\n",
        "    return K.minimum(self.e5c(image),K.minimum(self.e5_vertical_l(image),self.e5_vertical_r(image)))\n",
        "\n",
        "  def call(self,image):\n",
        "    return K.stack([self.a1(image)[:,:,:,0],\n",
        "                                self.b1(image)[:,:,:,0],\n",
        "                                self.c1(image)[:,:,:,0],\n",
        "                                self.d1(image)[:,:,:,0],\n",
        "                                self.a2(image)[:,:,:,0],\n",
        "                                self.b2(image)[:,:,:,0],\n",
        "                                self.a3(image)[:,:,:,0],\n",
        "                                self.b3(image)[:,:,:,0],\n",
        "                                self.c3(image)[:,:,:,0],\n",
        "                                self.d3(image)[:,:,:,0],\n",
        "                                self.s3a(image)[:,:,:,0],\n",
        "                                self.s5a(image)[:,:,:,0],\n",
        "                                self.e3a(image)[:,:,:,0],\n",
        "                                self.e3b(image)[:,:,:,0],\n",
        "                                self.e3c(image)[:,:,:,0],\n",
        "                                self.e3d(image)[:,:,:,0],\n",
        "                                self.e5a(image)[:,:,:,0],\n",
        "                                self.e5b(image)[:,:,:,0],\n",
        "                                self.e5c(image)[:,:,:,0],\n",
        "                                self.e5d(image)[:,:,:,0],\n",
        "                                ],axis=3)\n",
        "  def get_output_shape(self,input_shape):\n",
        "    return (input_shape[0],input_shape[1],input_shape[2],20)"
      ],
      "execution_count": null,
      "outputs": []
    },
    {
      "cell_type": "code",
      "metadata": {
        "id": "b3phzCJA7J0K"
      },
      "source": [
        "class ConvConst(tf.keras.models.Model):\n",
        "  def __init__(self,num_classes=10):\n",
        "    super(ConvConst,self).__init__()\n",
        "    self.n_classes = num_classes\n",
        "    self.block1 = PreprocessLayer()\n",
        "    \n",
        "    self.block2 = tf.keras.models.Sequential([\n",
        "                                              L.Conv2D(96,(7,7),strides=2),\n",
        "                                              L.BatchNormalization(),\n",
        "                                              L.Activation('tanh'),\n",
        "                                              L.MaxPool2D(pool_size=(3,3),strides=2)\n",
        "    ])\n",
        "    self.block3 = tf.keras.models.Sequential([\n",
        "                                             L.Conv2D(64,(5,5),strides=1),\n",
        "                                             L.BatchNormalization()\n",
        "    ])\n",
        "    self.block4 = tf.keras.models.Sequential([\n",
        "                                             L.Conv2D(64,(5,5),strides=1),\n",
        "                                             L.BatchNormalization(),\n",
        "                                             L.Activation('tanh'),\n",
        "                                             L.MaxPool2D(pool_size=(3,3),strides=2)\n",
        "    ])\n",
        "    self.block5 = tf.keras.models.Sequential([\n",
        "                                             L.Conv2D(128,(1,1),strides=1),\n",
        "                                             L.BatchNormalization(),\n",
        "                                             L.Activation('tanh'),\n",
        "                                             L.AveragePooling2D(pool_size=(3,3),strides=2)\n",
        "    ])\n",
        "\n",
        "    self.fc1 = L.Dense(200)\n",
        "    self.fc2 = L.Dense(200)\n",
        "    self.fc3 = L.Dense(num_classes,activation=\"softmax\")\n",
        "\n",
        "  def call(self,inputs,**kwargs):\n",
        "    out = self.block1(inputs)\n",
        "    out = self.block2(out)\n",
        "    out = self.block3(out)\n",
        "    out = self.block4(out)\n",
        "    out = self.block5(out)\n",
        "\n",
        "    out = L.Flatten()(out)\n",
        "\n",
        "    out = self.fc1(out)\n",
        "    out = self.fc2(out)\n",
        "    out = self.fc3(out)\n",
        "    return out"
      ],
      "execution_count": null,
      "outputs": []
    },
    {
      "cell_type": "code",
      "metadata": {
        "id": "ZhJWvZqonQxt"
      },
      "source": [
        "K.clear_session()\n",
        "model = ConvConst(num_classes=10)\n",
        "model.compile(loss = 'sparse_categorical_crossentropy',optimizer=tf.keras.optimizers.Adam(learning_rate=0.003),metrics=[\"accuracy\"])\n",
        "model.build((None,256,256,1))\n",
        "\n",
        "model.layers[0].trainable=False"
      ],
      "execution_count": null,
      "outputs": []
    },
    {
      "cell_type": "code",
      "metadata": {
        "id": "HINZj5RVoZeO",
        "colab": {
          "base_uri": "https://localhost:8080/"
        },
        "outputId": "34f846b3-eb94-45f6-a6db-89e7a49eb318"
      },
      "source": [
        "model.summary()"
      ],
      "execution_count": null,
      "outputs": [
        {
          "output_type": "stream",
          "text": [
            "Model: \"conv_const\"\n",
            "_________________________________________________________________\n",
            "Layer (type)                 Output Shape              Param #   \n",
            "=================================================================\n",
            "preprocess_layer (Preprocess multiple                  0         \n",
            "_________________________________________________________________\n",
            "sequential (Sequential)      (None, 62, 62, 96)        94560     \n",
            "_________________________________________________________________\n",
            "sequential_1 (Sequential)    (None, 58, 58, 64)        153920    \n",
            "_________________________________________________________________\n",
            "sequential_2 (Sequential)    (None, 26, 26, 64)        102720    \n",
            "_________________________________________________________________\n",
            "sequential_3 (Sequential)    (None, 12, 12, 128)       8832      \n",
            "_________________________________________________________________\n",
            "dense (Dense)                multiple                  3686600   \n",
            "_________________________________________________________________\n",
            "dense_1 (Dense)              multiple                  40200     \n",
            "_________________________________________________________________\n",
            "dense_2 (Dense)              multiple                  2010      \n",
            "=================================================================\n",
            "Total params: 4,088,842\n",
            "Trainable params: 4,088,138\n",
            "Non-trainable params: 704\n",
            "_________________________________________________________________\n"
          ],
          "name": "stdout"
        }
      ]
    },
    {
      "cell_type": "code",
      "metadata": {
        "id": "VPZJOXNIAH54"
      },
      "source": [
        "#import sys\n",
        "#del sys.modules[\"DataLoader\"]\n",
        "#del sys.modules[\"const\"]"
      ],
      "execution_count": null,
      "outputs": []
    },
    {
      "cell_type": "markdown",
      "metadata": {
        "id": "epK5sqOzM_I9"
      },
      "source": [
        "# Model Training"
      ]
    },
    {
      "cell_type": "code",
      "metadata": {
        "id": "uUgBH1Usojvd"
      },
      "source": [
        "from DataLoader import *\n",
        "from const import loss_plt"
      ],
      "execution_count": null,
      "outputs": []
    },
    {
      "cell_type": "code",
      "metadata": {
        "id": "wzYaKfz08G-O"
      },
      "source": [
        "RF = [0.6,0.7,0.8,0.9,0.95,1.05,1.1,1.2,1.3,1.4]"
      ],
      "execution_count": null,
      "outputs": []
    },
    {
      "cell_type": "code",
      "metadata": {
        "id": "_fQnq0Qc90Iv"
      },
      "source": [
        "load = DataLoader(path ='/content/DCR/train/',val_path = '/content/DCR/val/',merge=False,rfs =RF)\n",
        "\n",
        "train = load.flow(batch_size=64)\n",
        "val = load.val_flow(batch_size=64)\n",
        "   \n",
        "#early stopping            \n",
        "early_stop = tf.keras.callbacks.EarlyStopping(patience=10,monitor='val_accuracy',mode='max')\n",
        "#loss curves and log writing\n",
        "loss_plot = loss_plt()\n",
        "#check point\n",
        "chckpt = tf.keras.callbacks.ModelCheckpoint('model.hdf5',monitor='val_accuracy',mode='max',save_best_only=True,save_weights_only=True)\n",
        "lr_plateau = tf.keras.callbacks.ReduceLROnPlateau(monitor='val_loss',mode='min',patience=5,factor=0.8)"
      ],
      "execution_count": null,
      "outputs": []
    },
    {
      "cell_type": "code",
      "metadata": {
        "colab": {
          "base_uri": "https://localhost:8080/",
          "height": 404
        },
        "id": "2MDr3QHjCirU",
        "outputId": "56f674e1-d57b-4c1b-91c0-4df47c6a3ce9"
      },
      "source": [
        "model.fit(train,\n",
        "          steps_per_epoch = int(len(load.files)/64),\n",
        "          epochs = 50,\n",
        "          validation_data = val,\n",
        "          validation_steps= int(len(load.val_files)/64),\n",
        "          callbacks=[loss_plot,chckpt,lr_plateau],\n",
        "          verbose=1\n",
        "          )"
      ],
      "execution_count": null,
      "outputs": [
        {
          "output_type": "display_data",
          "data": {
            "image/png": "[encoded data removed]",
            "text/plain": [
              "<Figure size 720x360 with 2 Axes>"
            ]
          },
          "metadata": {
            "tags": [],
            "needs_background": "light"
          }
        },
        {
          "output_type": "stream",
          "text": [
            "epoch 50/50 loss: 0.092 accuracy: 0.9686 val_loss: 0.841 val_accuracy:0.8303\n"
          ],
          "name": "stdout"
        },
        {
          "output_type": "execute_result",
          "data": {
            "text/plain": [
              "<tensorflow.python.keras.callbacks.History at 0x7f29dc0cbe90>"
            ]
          },
          "metadata": {
            "tags": []
          },
          "execution_count": 11
        }
      ]
    },
    {
      "cell_type": "markdown",
      "metadata": {
        "id": "96xqn1liNB4m"
      },
      "source": [
        "# Model-Testing"
      ]
    },
    {
      "cell_type": "code",
      "metadata": {
        "id": "yCxNoIIKXqLN"
      },
      "source": [
        "model.load_weights('model.hdf5')"
      ],
      "execution_count": null,
      "outputs": []
    },
    {
      "cell_type": "code",
      "metadata": {
        "id": "_MZlGueyXqLb"
      },
      "source": [
        "import glob\n",
        "from tqdm.notebook import tqdm\n",
        "from sklearn.metrics import accuracy_score"
      ],
      "execution_count": null,
      "outputs": []
    },
    {
      "cell_type": "code",
      "metadata": {
        "id": "FnSNUt6E2tH7"
      },
      "source": [
        "files = [fn for fn in glob.glob(os.path.join('/content/DCR/test','*.jpg'))]"
      ],
      "execution_count": null,
      "outputs": []
    },
    {
      "cell_type": "code",
      "metadata": {
        "id": "d6MBWA-hXqLc",
        "colab": {
          "base_uri": "https://localhost:8080/",
          "height": 66,
          "referenced_widgets": [
            "c3f42c37cc29486c9f4963fab0842998",
            "33daac0678734f0eb587034feae27dec",
            "a14d51cc572e4fde806769c3d906e0db",
            "7f88cbb94d144ef2a57f661962a102ee",
            "6f52437636114029a15a8cb1cf54a0de",
            "253756d011c645e1a330c2536bc4b131",
            "c4259499d9234afaa1e026904910be9d",
            "f66dfea841cc4ddf994ec21cbb363ee3"
          ]
        },
        "outputId": "f97d05e4-65e1-43c3-9cb1-1219ff3c0e60"
      },
      "source": [
        "def crop_image(img):\n",
        "    mid = (int(img.shape[0]/2),int(img.shape[1]/2))\n",
        "    return img[mid[0]-128:mid[0]+128,mid[1]-128:mid[1]+128]\n",
        "\n",
        "class_dict = dict(zip(RF,range(len(RF))))\n",
        "label = lambda x: class_dict[float(x.split('.jpg')[0].split('rf_')[-1])]\n",
        "\n",
        "images = []\n",
        "labels = []\n",
        "for f in tqdm(files):\n",
        "  image = cv2.cvtColor(cv2.imread(f),cv2.COLOR_BGR2GRAY)\n",
        "  image = np.expand_dims(crop_image(image),axis=2).astype(np.float32)\n",
        "  labels.append(label(f.split('/')[-1]))\n",
        "  images.append(image)\n",
        "  "
      ],
      "execution_count": null,
      "outputs": [
        {
          "output_type": "display_data",
          "data": {
            "application/vnd.jupyter.widget-view+json": {
              "model_id": "c3f42c37cc29486c9f4963fab0842998",
              "version_minor": 0,
              "version_major": 2
            },
            "text/plain": [
              "HBox(children=(FloatProgress(value=0.0, max=3300.0), HTML(value='')))"
            ]
          },
          "metadata": {
            "tags": []
          }
        },
        {
          "output_type": "stream",
          "text": [
            "\n"
          ],
          "name": "stdout"
        }
      ]
    },
    {
      "cell_type": "code",
      "metadata": {
        "colab": {
          "base_uri": "https://localhost:8080/"
        },
        "id": "Ct5FcVqhXqLd",
        "outputId": "6f2977d0-c8ae-450e-a068-68087a6d9415"
      },
      "source": [
        "pred = [np.argmax(p) for p in model.predict(np.stack(images))]\n",
        "accuracy_score(labels,pred)"
      ],
      "execution_count": null,
      "outputs": [
        {
          "output_type": "execute_result",
          "data": {
            "text/plain": [
              "0.8275757575757576"
            ]
          },
          "metadata": {
            "tags": []
          },
          "execution_count": 17
        }
      ]
    },
    {
      "cell_type": "code",
      "metadata": {
        "colab": {
          "base_uri": "https://localhost:8080/"
        },
        "id": "vYx8E0yO4MH4",
        "outputId": "5f14f44b-0861-4423-815e-fe25820cc738"
      },
      "source": [
        "\n",
        "from accuracyMatrix_1 import matrix\n",
        "from utilities import *\n"
      ],
      "execution_count": null,
      "outputs": [
        {
          "output_type": "stream",
          "text": [
            "Mounted at /content/gdrive\n"
          ],
          "name": "stdout"
        }
      ]
    },
    {
      "cell_type": "markdown",
      "metadata": {
        "id": "bnC5piZoNJ54"
      },
      "source": [
        "## All-Factors"
      ]
    },
    {
      "cell_type": "code",
      "metadata": {
        "colab": {
          "base_uri": "https://localhost:8080/",
          "height": 250
        },
        "id": "wJvVJ4qzNMfZ",
        "outputId": "41570928-efa6-4e3c-c8a4-685c563fd521"
      },
      "source": [
        "df = matrix(model,test_dir=\"/content/DCR/test/\")\n",
        "df"
      ],
      "execution_count": null,
      "outputs": [
        {
          "output_type": "stream",
          "text": [
            "[9 0 1 2 6 8 3 5 6 6 5 3 7 3 9 8 2 8 0 4 1 0 2 9 0 9 7 9 3 3 0 1 3 4 7 7 9\n",
            " 8 8 0 3 6 1 6 3 8 8 3 8 3 8 0 9 2 2 8 9 1 8 7 5 6 7 0 0 2 0 6 3 4 1 5 6 4\n",
            " 1 1 3 2 3 1 4 1 6 7 3 4 9 7 9 8 7 1 7 9 1 4 6 8 6 2 0 3 3 0 4 8 3 0 8 4]\n"
          ],
          "name": "stdout"
        },
        {
          "output_type": "execute_result",
          "data": {
            "text/html": [
              "<div>\n",
              "<style scoped>\n",
              "    .dataframe tbody tr th:only-of-type {\n",
              "        vertical-align: middle;\n",
              "    }\n",
              "\n",
              "    .dataframe tbody tr th {\n",
              "        vertical-align: top;\n",
              "    }\n",
              "\n",
              "    .dataframe thead th {\n",
              "        text-align: right;\n",
              "    }\n",
              "</style>\n",
              "<table border=\"1\" class=\"dataframe\">\n",
              "  <thead>\n",
              "    <tr style=\"text-align: right;\">\n",
              "      <th></th>\n",
              "      <th>50</th>\n",
              "      <th>60</th>\n",
              "      <th>70</th>\n",
              "      <th>80</th>\n",
              "      <th>90</th>\n",
              "      <th>99</th>\n",
              "    </tr>\n",
              "  </thead>\n",
              "  <tbody>\n",
              "    <tr>\n",
              "      <th>50</th>\n",
              "      <td>0.7</td>\n",
              "      <td>0.854545</td>\n",
              "      <td>0.9</td>\n",
              "      <td>0.936364</td>\n",
              "      <td>0.945455</td>\n",
              "      <td>0.936364</td>\n",
              "    </tr>\n",
              "    <tr>\n",
              "      <th>60</th>\n",
              "      <td>0.763636</td>\n",
              "      <td>0.827273</td>\n",
              "      <td>0.890909</td>\n",
              "      <td>0.927273</td>\n",
              "      <td>0.945455</td>\n",
              "      <td>0.936364</td>\n",
              "    </tr>\n",
              "    <tr>\n",
              "      <th>70</th>\n",
              "      <td>0.690909</td>\n",
              "      <td>0.772727</td>\n",
              "      <td>0.827273</td>\n",
              "      <td>0.9</td>\n",
              "      <td>0.972727</td>\n",
              "      <td>0.936364</td>\n",
              "    </tr>\n",
              "    <tr>\n",
              "      <th>80</th>\n",
              "      <td>0.618182</td>\n",
              "      <td>0.663636</td>\n",
              "      <td>0.745455</td>\n",
              "      <td>0.9</td>\n",
              "      <td>0.9</td>\n",
              "      <td>0.945455</td>\n",
              "    </tr>\n",
              "    <tr>\n",
              "      <th>90</th>\n",
              "      <td>0.590909</td>\n",
              "      <td>0.609091</td>\n",
              "      <td>0.681818</td>\n",
              "      <td>0.772727</td>\n",
              "      <td>0.836364</td>\n",
              "      <td>0.9</td>\n",
              "    </tr>\n",
              "  </tbody>\n",
              "</table>\n",
              "</div>"
            ],
            "text/plain": [
              "          50        60        70        80        90        99\n",
              "50       0.7  0.854545       0.9  0.936364  0.945455  0.936364\n",
              "60  0.763636  0.827273  0.890909  0.927273  0.945455  0.936364\n",
              "70  0.690909  0.772727  0.827273       0.9  0.972727  0.936364\n",
              "80  0.618182  0.663636  0.745455       0.9       0.9  0.945455\n",
              "90  0.590909  0.609091  0.681818  0.772727  0.836364       0.9"
            ]
          },
          "metadata": {
            "tags": []
          },
          "execution_count": 19
        }
      ]
    },
    {
      "cell_type": "code",
      "metadata": {
        "id": "aqpgV3OU_Tc7"
      },
      "source": [
        ""
      ],
      "execution_count": null,
      "outputs": []
    }
  ]
}